{
 "cells": [
  {
   "cell_type": "code",
   "execution_count": 2,
   "metadata": {},
   "outputs": [],
   "source": [
    "import sys\n",
    "import os\n",
    "\n",
    "# Assuming the current Jupyter Notebook is in a folder called 'notebooks'\n",
    "current_directory = os.getcwd()\n",
    "\n",
    "# Move up one level to the parent folder\n",
    "parent_directory = os.path.dirname(current_directory)\n",
    "\n",
    "# Add the parent directory to the Python path\n",
    "sys.path.append(parent_directory)\n",
    "\n",
    "import numpy as np\n",
    "import matplotlib.pyplot as plt\n",
    "from scripts.utils import crop_center_square\n",
    "import os"
   ]
  },
  {
   "cell_type": "code",
   "execution_count": 3,
   "metadata": {},
   "outputs": [],
   "source": [
    "imgs = np.load('../data/training/test_images_n_2.npy')"
   ]
  },
  {
   "cell_type": "code",
   "execution_count": 5,
   "metadata": {},
   "outputs": [
    {
     "name": "stdout",
     "output_type": "stream",
     "text": [
      "Start extracting images...\n"
     ]
    }
   ],
   "source": [
    "tmp = []\n",
    "\n",
    "for im in imgs:\n",
    "    im = crop_center_square(im)\n",
    "    tmp.append(im)\n",
    "\n",
    "imgs = tmp\n",
    "\n",
    "print(\"Start extracting images...\")\n",
    "\n",
    "# extract only every 4th image to avoid overlap\n",
    "for idx, img in enumerate(imgs):\n",
    "    plt.imsave(os.path.join('data/prediction/preprocessed/val', '{}.png'.format(idx)), img, cmap='gray')"
   ]
  }
 ],
 "metadata": {
  "kernelspec": {
   "display_name": "Python 3 (ipykernel)",
   "language": "python",
   "name": "python3"
  },
  "language_info": {
   "codemirror_mode": {
    "name": "ipython",
    "version": 3
   },
   "file_extension": ".py",
   "mimetype": "text/x-python",
   "name": "python",
   "nbconvert_exporter": "python",
   "pygments_lexer": "ipython3",
   "version": "3.10.0"
  }
 },
 "nbformat": 4,
 "nbformat_minor": 2
}
